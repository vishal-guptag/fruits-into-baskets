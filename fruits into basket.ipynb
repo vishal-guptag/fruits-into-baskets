{
 "cells": [
  {
   "cell_type": "code",
   "execution_count": 3,
   "metadata": {},
   "outputs": [
    {
     "name": "stdout",
     "output_type": "stream",
     "text": [
      "maximum number of fruits: 3\n"
     ]
    }
   ],
   "source": [
    "#TIME COMPLEXITY:O(n) & SPACE COMPLEXITY:O(1)\n",
    "def fruits_into_baskets(fruits):\n",
    "    window_start=0\n",
    "    max_length=0\n",
    "    fruit_frequency={}\n",
    "    \n",
    "    #try to extend the range [window_start,window_end]\n",
    "    for window_end in range(len(fruits)):\n",
    "        right_fruit=fruits[window_end]\n",
    "        if right_fruit not in fruit_frequency:\n",
    "            fruit_frequency[right_fruit]=0\n",
    "        fruit_frequency[right_fruit]+=1\n",
    "        #shrink the sliding window,until we are left with '2' fruits in the fruit frequency dictionary\n",
    "        while len(fruit_frequency)>2:\n",
    "            left_fruit=fruits[window_start]\n",
    "            fruit_frequency[left_fruit]-=1\n",
    "            if fruit_frequency[left_fruit]==0:\n",
    "                del fruit_frequency[left_fruit]\n",
    "            window_start+=1  #shrink the window\n",
    "        max_length=max(max_length,window_end-window_start+1)\n",
    "    return max_length\n",
    "print(\"maximum number of fruits: \"+ str(fruits_into_baskets(['A','B','C','A','C'])))"
   ]
  },
  {
   "cell_type": "code",
   "execution_count": null,
   "metadata": {},
   "outputs": [],
   "source": []
  }
 ],
 "metadata": {
  "kernelspec": {
   "display_name": "Python 3",
   "language": "python",
   "name": "python3"
  },
  "language_info": {
   "codemirror_mode": {
    "name": "ipython",
    "version": 3
   },
   "file_extension": ".py",
   "mimetype": "text/x-python",
   "name": "python",
   "nbconvert_exporter": "python",
   "pygments_lexer": "ipython3",
   "version": "3.7.1"
  }
 },
 "nbformat": 4,
 "nbformat_minor": 2
}
